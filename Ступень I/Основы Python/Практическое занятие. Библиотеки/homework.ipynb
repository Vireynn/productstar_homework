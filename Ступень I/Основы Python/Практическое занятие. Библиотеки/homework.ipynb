{
 "cells": [
  {
   "cell_type": "markdown",
   "id": "bd553af4",
   "metadata": {},
   "source": [
    "# Практическое занятие: библиотеки\n",
    "## Задание 1\n",
    "Напиши программу, которая использует функцию mean из библиотеки numpy, чтобы посчитать среднее значение в массиве чисел [71, 1, 10, 0, 128]."
   ]
  },
  {
   "cell_type": "code",
   "execution_count": 2,
   "id": "75a7f194",
   "metadata": {},
   "outputs": [],
   "source": [
    "#imports\n",
    "import numpy as np"
   ]
  },
  {
   "cell_type": "code",
   "execution_count": 5,
   "id": "904a4cce",
   "metadata": {},
   "outputs": [
    {
     "data": {
      "text/plain": [
       "42.0"
      ]
     },
     "execution_count": 5,
     "metadata": {},
     "output_type": "execute_result"
    }
   ],
   "source": [
    "array = np.array([71, 1, 10, 0, 128])\n",
    "array.mean()"
   ]
  },
  {
   "cell_type": "code",
   "execution_count": null,
   "id": "8184d7fc",
   "metadata": {},
   "outputs": [],
   "source": []
  }
 ],
 "metadata": {
  "kernelspec": {
   "display_name": "Python 3 (ipykernel)",
   "language": "python",
   "name": "python3"
  },
  "language_info": {
   "codemirror_mode": {
    "name": "ipython",
    "version": 3
   },
   "file_extension": ".py",
   "mimetype": "text/x-python",
   "name": "python",
   "nbconvert_exporter": "python",
   "pygments_lexer": "ipython3",
   "version": "3.11.3"
  }
 },
 "nbformat": 4,
 "nbformat_minor": 5
}
