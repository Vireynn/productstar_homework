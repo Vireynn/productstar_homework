{
 "cells": [
  {
   "cell_type": "code",
   "execution_count": 1,
   "id": "720eca2f",
   "metadata": {},
   "outputs": [
    {
     "name": "stdout",
     "output_type": "stream",
     "text": [
      "x1 = 3.0\n",
      "x2 = 2.0\n"
     ]
    }
   ],
   "source": [
    "# imports\n",
    "from math import sqrt\n",
    "\n",
    "a = 1\n",
    "b = -5\n",
    "c = 6\n",
    "\n",
    "D = b ** 2 - 4 * a * c\n",
    "\n",
    "if D > 0:\n",
    "    x1 = (-b + sqrt(D)) / (2 * a)\n",
    "    x2 = (-b - sqrt(D)) / (2 * a)\n",
    "    print(f\"x1 = {x1}\\nx2 = {x2}\")\n",
    "elif D == 0:\n",
    "    x = -b / (2 * a)\n",
    "    print(\"x = \", x)\n",
    "else:\n",
    "    print(\"Решений нет\")"
   ]
  },
  {
   "cell_type": "code",
   "execution_count": null,
   "id": "904bd415",
   "metadata": {},
   "outputs": [],
   "source": []
  }
 ],
 "metadata": {
  "kernelspec": {
   "display_name": "Python 3 (ipykernel)",
   "language": "python",
   "name": "python3"
  },
  "language_info": {
   "codemirror_mode": {
    "name": "ipython",
    "version": 3
   },
   "file_extension": ".py",
   "mimetype": "text/x-python",
   "name": "python",
   "nbconvert_exporter": "python",
   "pygments_lexer": "ipython3",
   "version": "3.11.3"
  }
 },
 "nbformat": 4,
 "nbformat_minor": 5
}
