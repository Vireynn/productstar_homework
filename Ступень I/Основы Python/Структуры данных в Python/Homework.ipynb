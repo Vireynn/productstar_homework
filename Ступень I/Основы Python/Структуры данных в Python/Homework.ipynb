{
 "cells": [
  {
   "cell_type": "markdown",
   "id": "9658011a",
   "metadata": {
    "id": "9658011a"
   },
   "source": [
    "# Задача №1\n",
    "\n",
    "Напишите функцию `find_sum_elements()`, которая принимает на вход массив nums и число target и возвращает массив, содержащий индексы двух элементов nums, сумма которых равна target.\n",
    "\n",
    "Примеры:\n",
    "- `find_sum_elements([2,7,11,15], 9) = [2, 7]`\n",
    "- `find_sum_elements([3, 2, 4], 6) = [2, 4]`\n",
    "\n",
    "Важные детали\n",
    "- Гарантируется, что такие два числа всегда в nums существуют.\n",
    "- Порядок элементов в ответе не важен.\n",
    "\n",
    "Попробуйте придумать, при помощи какой структуры данных можно решить эту задачу за один проход по массиву?"
   ]
  },
  {
   "cell_type": "code",
   "execution_count": 1,
   "id": "b165abc5",
   "metadata": {
    "id": "b165abc5"
   },
   "outputs": [],
   "source": [
    "from collections import deque\n",
    "\n",
    "# Замените тело функции на своё решение\n",
    "def find_sum_elements(nums, target):\n",
    "    difference_dict = {}\n",
    "    for i in range(0, len(nums)):\n",
    "        if difference_dict.get(nums[i]) != None:\n",
    "            return [i, difference_dict[nums[i]]]\n",
    "        else:\n",
    "            difference_dict[target - nums[i]] = i\n",
    "            "
   ]
  },
  {
   "cell_type": "markdown",
   "id": "7fb5e31f",
   "metadata": {
    "id": "7fb5e31f"
   },
   "source": [
    "## Проверьте себя\n",
    "\n",
    "Ячейка ниже содержит тесты, при помощи которых можно проверить корретность решения. Просто выполните ячейку и она распечатает результат."
   ]
  },
  {
   "cell_type": "code",
   "execution_count": 2,
   "id": "4bfc9a4f",
   "metadata": {
    "id": "4bfc9a4f"
   },
   "outputs": [
    {
     "name": "stdout",
     "output_type": "stream",
     "text": [
      "\n",
      "Количество правильно решённых тестов: 5 из 5\n",
      "Отличный результат!\n"
     ]
    }
   ],
   "source": [
    "def test_task_1():\n",
    "    tests = (\n",
    "        ([2, 11, 15, 7], 9),\n",
    "        ([3, 2, 4], 6),\n",
    "        ([0, 0, 1], 0),\n",
    "        ([3, 2, 1], 4),\n",
    "        ([1, 3, 6, 7, 9], 10),\n",
    "    )\n",
    "    num_correct = 0\n",
    "    for nums, target in tests:\n",
    "        result = find_sum_elements(nums, target)\n",
    "        if not isinstance(result, list):\n",
    "            print(f'find_sum_elements() должна возвращать массив, а не {type(result)} (nums={nums}, target={target})')\n",
    "            continue\n",
    "        if len(result) != 2:\n",
    "            print(f'find_sum_elements() должна возвращать массив из двух элементов (nums={nums}, target={target})')\n",
    "            continue\n",
    "        if result[0] == result[1]:\n",
    "            print(f'find_sum_elements() вернула два одинаковых индекса')\n",
    "            continue\n",
    "        if result[0] >= len(nums) or result[1] >= len(nums):\n",
    "            print(f'Один из индексов выходит за границы nums')\n",
    "            continue\n",
    "        if nums[result[0]] + nums[result[1]] != target:\n",
    "            print(f'Сумма элементов nums={nums} с индексами {result[0]} и {result[1]} не равна {target}')\n",
    "            continue\n",
    "        num_correct += 1\n",
    "    print()\n",
    "    print(f'Количество правильно решённых тестов: {num_correct} из {len(tests)}')\n",
    "    if num_correct == len(tests):\n",
    "        print('Отличный результат!')\n",
    "\n",
    "test_task_1()\n"
   ]
  },
  {
   "cell_type": "markdown",
   "id": "ed1fd8a9",
   "metadata": {
    "id": "ed1fd8a9"
   },
   "source": [
    "# Задача №2\n",
    "\n",
    "Панграмма – это фраза, содержащая все буквы алфавита, например «Съешь же ещё этих мягких французских булок да выпей чаю».\n",
    "\n",
    "Напишите функцию, которая принимает на вход одну строку и проверяет, является ли она панграммой\n",
    "на русском языке.\n",
    "\n",
    "Важные детали\n",
    "- Функция должна возвращать True или False\n",
    "- Функции могут содержать строчные и заглавные буквы. Все строку можно буквы можно превратить в строчные при помощи метода .lower()\n",
    "- Используйте операции сравнения, чтобы проверить, входит ли буква в диапазон букв русского алфавита: `c >= 'а' and с <= 'я'`\n"
   ]
  },
  {
   "cell_type": "code",
   "execution_count": 3,
   "id": "08b922e1",
   "metadata": {
    "id": "08b922e1"
   },
   "outputs": [
    {
     "name": "stdout",
     "output_type": "stream",
     "text": [
      "абв\n"
     ]
    }
   ],
   "source": [
    "# Пример работы с lower\n",
    "\n",
    "s = 'АБВ'\n",
    "s = s.lower()\n",
    "print(s)\n",
    "\n",
    "# вспомогательная функция, которая проверяет, является ли символ буквой русского языка\n",
    "def is_russian_alphabet_letter(c):\n",
    "    return len(c) == 1 and (\n",
    "        c >= 'а' and c <= 'я'\n",
    "        # буква ё может кодироваться разными способами, поэтому проверим её отдельно\n",
    "        or c == 'ё'\n",
    "    )"
   ]
  },
  {
   "cell_type": "code",
   "execution_count": 4,
   "id": "6116506e",
   "metadata": {
    "id": "6116506e"
   },
   "outputs": [],
   "source": [
    "def is_pangram(s):\n",
    "    alphabet = {'а': 0, 'б': 0, 'в': 0, 'г': 0, 'д': 0, 'е': 0, 'ё': 0, 'ж': 0, 'з': 0, 'и': 0, 'й': 0,\n",
    "                'к': 0, 'л': 0, 'м': 0, 'н': 0, 'о': 0, 'п': 0, 'р': 0, 'с': 0, 'т': 0, 'у': 0, 'ф': 0,\n",
    "                'х': 0, 'ц': 0, 'ч': 0, 'ш': 0, 'щ': 0, 'ъ': 0, 'ы': 0, 'ь': 0, 'э': 0, 'ю': 0, 'я': 0}\n",
    "    \n",
    "    for letter in s.lower():\n",
    "        if is_russian_alphabet_letter(letter):\n",
    "            try:\n",
    "                alphabet.pop(letter)\n",
    "            except KeyError:\n",
    "                pass\n",
    "    \n",
    "    return len(alphabet) == 0"
   ]
  },
  {
   "cell_type": "markdown",
   "id": "72f9d663",
   "metadata": {
    "id": "72f9d663"
   },
   "source": [
    "## Проверьте себя\n",
    "\n",
    "Ячейка ниже содержит тесты, при помощи которых можно проверить корретность решения. Просто выполните ячейку и она распечатает результат."
   ]
  },
  {
   "cell_type": "code",
   "execution_count": 5,
   "id": "9f7cd780",
   "metadata": {
    "colab": {
     "base_uri": "https://localhost:8080/",
     "height": 355
    },
    "executionInfo": {
     "elapsed": 309,
     "status": "error",
     "timestamp": 1694707938251,
     "user": {
      "displayName": "productstar homework",
      "userId": "17463514396133947951"
     },
     "user_tz": -180
    },
    "id": "9f7cd780",
    "outputId": "68141617-78f8-42c7-f24b-bd9fc8cae42c"
   },
   "outputs": [
    {
     "name": "stdout",
     "output_type": "stream",
     "text": [
      "\n",
      "Количество правильно решённых тестов: 5 из 5\n",
      "Отличный результат!\n"
     ]
    }
   ],
   "source": [
    "def test_task_2():\n",
    "    tests = (\n",
    "        ('Съешь же ещё этих мягких французских булок да выпей чаю', True),\n",
    "        ('Широкая электрификация южных губерний даст мощный толчок подъёму сельского хозяйства', True),\n",
    "        ('В чащах юга жил бы цитрус? Да, но фальшивый экземпляр!', False),\n",
    "        ('А роза упала на лапу Азора', False),\n",
    "        ('Мои папа и мама! Я живу хорошо. Просто замечательно. У меня есть свой дом', False),\n",
    "    )\n",
    "    num_correct = 0\n",
    "    for test, correct_answer in tests:\n",
    "        result = is_pangram(test)\n",
    "        if result != correct_answer:\n",
    "            print(f'Проверьте свою функцию на строке \"{test}\"')\n",
    "            continue\n",
    "        num_correct += 1\n",
    "    print()\n",
    "    print(f'Количество правильно решённых тестов: {num_correct} из {len(tests)}')\n",
    "    if num_correct == len(tests):\n",
    "        print('Отличный результат!')\n",
    "\n",
    "test_task_2()"
   ]
  },
  {
   "cell_type": "code",
   "execution_count": null,
   "id": "1953e40e",
   "metadata": {},
   "outputs": [],
   "source": []
  }
 ],
 "metadata": {
  "colab": {
   "provenance": []
  },
  "kernelspec": {
   "display_name": "Python 3 (ipykernel)",
   "language": "python",
   "name": "python3"
  },
  "language_info": {
   "codemirror_mode": {
    "name": "ipython",
    "version": 3
   },
   "file_extension": ".py",
   "mimetype": "text/x-python",
   "name": "python",
   "nbconvert_exporter": "python",
   "pygments_lexer": "ipython3",
   "version": "3.11.3"
  }
 },
 "nbformat": 4,
 "nbformat_minor": 5
}
