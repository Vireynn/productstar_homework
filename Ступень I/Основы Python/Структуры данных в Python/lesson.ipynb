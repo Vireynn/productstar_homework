{
 "cells": [
  {
   "cell_type": "markdown",
   "id": "1f0705a6",
   "metadata": {},
   "source": [
    "# Структуры данных в Python\n",
    "## Массив\n",
    "### Объявление нового массива"
   ]
  },
  {
   "cell_type": "code",
   "execution_count": 1,
   "id": "5bbbf106",
   "metadata": {},
   "outputs": [
    {
     "name": "stdout",
     "output_type": "stream",
     "text": [
      "[]\n",
      "[1, 2, 3]\n",
      "[]\n"
     ]
    }
   ],
   "source": [
    "l = []\n",
    "print(l)\n",
    "\n",
    "l = [1, 2, 3]\n",
    "print(l)\n",
    "\n",
    "l = list()\n",
    "print(l)"
   ]
  },
  {
   "cell_type": "markdown",
   "id": "c15796e1",
   "metadata": {},
   "source": [
    "### Добавление нового элемента"
   ]
  },
  {
   "cell_type": "code",
   "execution_count": 4,
   "id": "77f4e9ca",
   "metadata": {},
   "outputs": [
    {
     "name": "stdout",
     "output_type": "stream",
     "text": [
      "[1, 2, 3]\n",
      "[1, 2, 3, 4]\n"
     ]
    }
   ],
   "source": [
    "# .append()\n",
    "l = [1, 2, 3]\n",
    "print(l)\n",
    "l.append(4)\n",
    "print(l)"
   ]
  },
  {
   "cell_type": "code",
   "execution_count": 5,
   "id": "bf4fd2b4",
   "metadata": {},
   "outputs": [
    {
     "name": "stdout",
     "output_type": "stream",
     "text": [
      "[0, 1, 2, 3, 4]\n"
     ]
    }
   ],
   "source": [
    "# .insert()\n",
    "l.insert(0, 0)\n",
    "print(l)"
   ]
  },
  {
   "cell_type": "markdown",
   "id": "bef47082",
   "metadata": {},
   "source": [
    "### Разница между вставкой в конец и вставкой в середину"
   ]
  },
  {
   "cell_type": "code",
   "execution_count": 7,
   "id": "71d9ee04",
   "metadata": {},
   "outputs": [
    {
     "data": {
      "text/plain": [
       "5.710088199994061"
      ]
     },
     "execution_count": 7,
     "metadata": {},
     "output_type": "execute_result"
    }
   ],
   "source": [
    "from random import randint\n",
    "import timeit\n",
    "\n",
    "def test_append():\n",
    "    l = []\n",
    "    for i in range(10000):\n",
    "        l.append(randint(0, 1000))\n",
    "    \n",
    "timeit.timeit('test_append()', globals=locals(), number=1000)"
   ]
  },
  {
   "cell_type": "code",
   "execution_count": 9,
   "id": "38ae9870",
   "metadata": {},
   "outputs": [
    {
     "data": {
      "text/plain": [
       "26.382429599994794"
      ]
     },
     "execution_count": 9,
     "metadata": {},
     "output_type": "execute_result"
    }
   ],
   "source": [
    "from random import randint\n",
    "import timeit\n",
    "\n",
    "def test_insert_front():\n",
    "    l = []\n",
    "    for i in range(10000):\n",
    "        l.insert(0, randint(0, 1000))\n",
    "\n",
    "timeit.timeit('test_insert_front()', globals=locals(), number=1000)"
   ]
  },
  {
   "cell_type": "markdown",
   "id": "cfec5f46",
   "metadata": {},
   "source": [
    "### Удаление элементов"
   ]
  },
  {
   "cell_type": "code",
   "execution_count": 10,
   "id": "94ab9a8f",
   "metadata": {},
   "outputs": [
    {
     "name": "stdout",
     "output_type": "stream",
     "text": [
      "last_element: 4\n",
      "[0, 1, 3]\n"
     ]
    }
   ],
   "source": [
    "last_element = l.pop()\n",
    "print('last_element:', last_element)\n",
    "del l[2]\n",
    "print(l)"
   ]
  },
  {
   "cell_type": "markdown",
   "id": "6ed5e580",
   "metadata": {},
   "source": [
    "## Стеки и очереди\n",
    "### Стек на основе массива"
   ]
  },
  {
   "cell_type": "code",
   "execution_count": 12,
   "id": "12317029",
   "metadata": {},
   "outputs": [
    {
     "name": "stdout",
     "output_type": "stream",
     "text": [
      "stack: [1, 2, 3]\n",
      "peek: 3\n",
      "pop: 3\n",
      "pop: 2\n",
      "pop: 1\n"
     ]
    }
   ],
   "source": [
    "stack = []\n",
    "\n",
    "# push - добавление элемента в конец\n",
    "stack.append(1)\n",
    "stack.append(2)\n",
    "stack.append(3)\n",
    "\n",
    "print('stack:', stack)\n",
    "\n",
    "# peek - посмотреть последний элемент\n",
    "print('peek:', stack[-1])\n",
    "\n",
    "# pop - забрать последний элемент\n",
    "print('pop:', stack.pop())\n",
    "print('pop:', stack.pop())\n",
    "print('pop:', stack.pop())"
   ]
  },
  {
   "cell_type": "markdown",
   "id": "f80875e4",
   "metadata": {},
   "source": [
    "### Очередь"
   ]
  },
  {
   "cell_type": "code",
   "execution_count": 13,
   "id": "3f2ae95a",
   "metadata": {},
   "outputs": [
    {
     "name": "stdout",
     "output_type": "stream",
     "text": [
      "empty: True\n",
      "empty: False\n",
      "1\n",
      "2\n",
      "3\n"
     ]
    }
   ],
   "source": [
    "from queue import Queue\n",
    "\n",
    "q = Queue()\n",
    "print('empty:', q.empty())\n",
    "q.put(1)\n",
    "q.put(2)\n",
    "q.put(3)\n",
    "\n",
    "print('empty:', q.empty())\n",
    "print(q.get(block=False))\n",
    "print(q.get(block=False))\n",
    "print(q.get(block=False))"
   ]
  },
  {
   "cell_type": "markdown",
   "id": "e4f5dfb8",
   "metadata": {},
   "source": [
    "### Deque"
   ]
  },
  {
   "cell_type": "code",
   "execution_count": 14,
   "id": "1bb170ea",
   "metadata": {},
   "outputs": [
    {
     "data": {
      "text/plain": [
       "5.84995550000167"
      ]
     },
     "execution_count": 14,
     "metadata": {},
     "output_type": "execute_result"
    }
   ],
   "source": [
    "from collections import deque\n",
    "import random\n",
    "import timeit\n",
    "\n",
    "def test_deque_insert_front():\n",
    "    l = deque()\n",
    "    for i in range(10000):\n",
    "        l.appendleft(random.randint(0, 1000))\n",
    "        \n",
    "timeit.timeit('test_deque_insert_front()', globals=locals(), number=1000)"
   ]
  },
  {
   "cell_type": "markdown",
   "id": "1901fd3e",
   "metadata": {},
   "source": [
    "## Хеш-таблицы (словари)\n",
    "### Базовые операции"
   ]
  },
  {
   "cell_type": "code",
   "execution_count": 15,
   "id": "432a0360",
   "metadata": {},
   "outputs": [
    {
     "name": "stdout",
     "output_type": "stream",
     "text": [
      "{'key1': 1, 'key2': 2}\n",
      "1\n"
     ]
    }
   ],
   "source": [
    "# Создание нового словаря\n",
    "d = {}\n",
    "d = dict()\n",
    "d = {'key1': 1, 'key2': 2}\n",
    "\n",
    "# Вставка элемента\n",
    "d['key3'] = 3\n",
    "\n",
    "# Повторная вставка элемента\n",
    "d['key3'] = 4\n",
    "\n",
    "del d['key3']\n",
    "print(d)\n",
    "\n",
    "# Поиск элемента\n",
    "print(d['key1'])\n"
   ]
  },
  {
   "cell_type": "code",
   "execution_count": 16,
   "id": "fec534ac",
   "metadata": {},
   "outputs": [
    {
     "name": "stdout",
     "output_type": "stream",
     "text": [
      "None\n",
      "3\n"
     ]
    }
   ],
   "source": [
    "# Также можно искать при помощи d.get()\n",
    "print(d.get('key3'))\n",
    "print(d.get('key3', 3))"
   ]
  },
  {
   "cell_type": "markdown",
   "id": "0452ea39",
   "metadata": {},
   "source": [
    "### <code>__hash__</code> и <code>__eq__</code>"
   ]
  },
  {
   "cell_type": "code",
   "execution_count": 17,
   "id": "c86952c6",
   "metadata": {},
   "outputs": [],
   "source": [
    "class TestKey:\n",
    "    def __init__(self, value):\n",
    "        self.value = value\n",
    "    \n",
    "    def __repr__(self):\n",
    "        return f'TestKey({self.value})'"
   ]
  },
  {
   "cell_type": "code",
   "execution_count": 18,
   "id": "c753cf52",
   "metadata": {},
   "outputs": [
    {
     "name": "stdout",
     "output_type": "stream",
     "text": [
      "{TestKey(1): 1, TestKey(1): 1}\n"
     ]
    }
   ],
   "source": [
    "d = {}\n",
    "d[TestKey(1)] = 1\n",
    "d[TestKey(1)] = 1\n",
    "print(d)"
   ]
  },
  {
   "cell_type": "markdown",
   "id": "31c72b59",
   "metadata": {},
   "source": [
    "### <code>__hash__</code> без <code>__eq__</code>"
   ]
  },
  {
   "cell_type": "code",
   "execution_count": 19,
   "id": "5c2892d5",
   "metadata": {},
   "outputs": [],
   "source": [
    "class TestKey2:\n",
    "    def __init__(self, value):\n",
    "        self.value = value\n",
    "    \n",
    "    def __repr__(self):\n",
    "        return f'TestKey2({self.value})'\n",
    "    \n",
    "    def __hash__(self):\n",
    "        return hash(self.value)\n"
   ]
  },
  {
   "cell_type": "code",
   "execution_count": 20,
   "id": "31bd5e71",
   "metadata": {},
   "outputs": [
    {
     "name": "stdout",
     "output_type": "stream",
     "text": [
      "{TestKey2(1): 1, TestKey2(1): 1}\n"
     ]
    }
   ],
   "source": [
    "d = {}\n",
    "d[TestKey2(1)] = 1\n",
    "d[TestKey2(1)] = 1\n",
    "print(d)"
   ]
  },
  {
   "cell_type": "markdown",
   "id": "340a5c0d",
   "metadata": {},
   "source": [
    "### <code>__eq__</code> и <code>__hash__</code>"
   ]
  },
  {
   "cell_type": "code",
   "execution_count": 21,
   "id": "d69a02bc",
   "metadata": {},
   "outputs": [],
   "source": [
    "class TestKey3:\n",
    "    def __init__(self, value):\n",
    "        self.value = value\n",
    "    \n",
    "    def __repr__(self):\n",
    "        return f'TestKey2({self.value})'\n",
    "    \n",
    "    def __eq__(self, other):\n",
    "        return isinstance(other, TestKey3) and self.value == other.value"
   ]
  },
  {
   "cell_type": "code",
   "execution_count": 22,
   "id": "b0c3f1d8",
   "metadata": {},
   "outputs": [
    {
     "ename": "TypeError",
     "evalue": "unhashable type: 'TestKey3'",
     "output_type": "error",
     "traceback": [
      "\u001b[1;31m---------------------------------------------------------------------------\u001b[0m",
      "\u001b[1;31mTypeError\u001b[0m                                 Traceback (most recent call last)",
      "Cell \u001b[1;32mIn[22], line 2\u001b[0m\n\u001b[0;32m      1\u001b[0m d \u001b[38;5;241m=\u001b[39m {}\n\u001b[1;32m----> 2\u001b[0m \u001b[43md\u001b[49m\u001b[43m[\u001b[49m\u001b[43mTestKey3\u001b[49m\u001b[43m(\u001b[49m\u001b[38;5;241;43m1\u001b[39;49m\u001b[43m)\u001b[49m\u001b[43m]\u001b[49m \u001b[38;5;241m=\u001b[39m \u001b[38;5;241m1\u001b[39m\n\u001b[0;32m      3\u001b[0m \u001b[38;5;28mprint\u001b[39m(d)\n",
      "\u001b[1;31mTypeError\u001b[0m: unhashable type: 'TestKey3'"
     ]
    }
   ],
   "source": [
    "d = {}\n",
    "d[TestKey3(1)] = 1\n",
    "print(d)"
   ]
  },
  {
   "cell_type": "code",
   "execution_count": 27,
   "id": "a1582402",
   "metadata": {},
   "outputs": [],
   "source": [
    "class TestKey4:\n",
    "    def __init__(self, value):\n",
    "        self.value = value\n",
    "    \n",
    "    def __repr__(self):\n",
    "        return f'TestKey4({self.value})'\n",
    "    def __hash__(self):\n",
    "        return hash(self.value)\n",
    "    \n",
    "    def __eq__(self, other):\n",
    "        return isinstance(other, TestKey4) and self.value == other.value\n"
   ]
  },
  {
   "cell_type": "code",
   "execution_count": 29,
   "id": "ca35e801",
   "metadata": {},
   "outputs": [
    {
     "name": "stdout",
     "output_type": "stream",
     "text": [
      "{TestKey4(1): 1, TestKey4(2): 1}\n"
     ]
    }
   ],
   "source": [
    "d = {}\n",
    "d[TestKey4(1)] = 1\n",
    "d[TestKey4(1)] = 1\n",
    "d[TestKey4(2)] = 1\n",
    "print(d)"
   ]
  },
  {
   "cell_type": "markdown",
   "id": "5ec0bb23",
   "metadata": {},
   "source": [
    "## Бинарный поиск"
   ]
  },
  {
   "cell_type": "code",
   "execution_count": 88,
   "id": "875edcec",
   "metadata": {},
   "outputs": [],
   "source": [
    "def binary_search(array: list, target: int, low: int, high: int):\n",
    "    # Длина массива\n",
    "    central_elem = (low + high) // 2\n",
    "    \n",
    "    if high >= low and central_elem < len(array):\n",
    "        if target < array[central_elem]:\n",
    "            return binary_search(array, target, low, central_elem - 1)\n",
    "        \n",
    "        elif target > array[central_elem]:\n",
    "            return binary_search(array, target, central_elem + 1, high)\n",
    "        \n",
    "        else:\n",
    "            return array[central_elem]\n",
    "    else:\n",
    "        return None"
   ]
  },
  {
   "cell_type": "code",
   "execution_count": 91,
   "id": "03e14b57",
   "metadata": {},
   "outputs": [],
   "source": [
    "a = [1, 3, 4, 6, 7, 8, 10, 14, 18, 19, 20, 26, 28, 30]\n",
    "\n",
    "value = binary_search(a, 14, 0, len(a))"
   ]
  },
  {
   "cell_type": "code",
   "execution_count": 92,
   "id": "8966c58b",
   "metadata": {},
   "outputs": [
    {
     "name": "stdout",
     "output_type": "stream",
     "text": [
      "14\n"
     ]
    }
   ],
   "source": [
    "print(value)"
   ]
  },
  {
   "cell_type": "markdown",
   "id": "921c9ed4",
   "metadata": {},
   "source": [
    "# Воркшоп"
   ]
  },
  {
   "cell_type": "markdown",
   "id": "e07c4798",
   "metadata": {},
   "source": [
    "Вектор - это массив чисел.\n",
    "<br>Разреженный вектор - это массив, в котором большое количество элементов равны 0.\n",
    "<br>Скалярное произведение двух векторов - это сумма произведений их элементов с одинаковыми индексами, например:\n",
    "    a = [1, 2, 3]\n",
    "    b = [4, 5, 6]\n",
    "    $scalar(a, b) = 1*4 + 2*5 + 3*6 = 32$"
   ]
  },
  {
   "cell_type": "markdown",
   "id": "4b205a3a",
   "metadata": {},
   "source": [
    "## Задача\n",
    "Напишите класс, который реализует эффективное хранилище для разреженных векторов и реализуйте операцию скалярного умножения."
   ]
  },
  {
   "cell_type": "code",
   "execution_count": 105,
   "id": "8faf7d7f",
   "metadata": {},
   "outputs": [],
   "source": [
    "class SparseVector:\n",
    "    def __init__(self, elements_array, size):\n",
    "        self.elements = {}\n",
    "        self.elements_array = elements_array\n",
    "        self.size = size\n",
    "        \n",
    "        for i, value in elements_array:\n",
    "            self.elements[i] = value\n",
    "            \n",
    "    def scalar(self, other):\n",
    "        if self.size != other.size:\n",
    "            raise Exception('Размеры векторов не равны!')\n",
    "            \n",
    "        scalar_product = 0\n",
    "        for i, value in self.elements.items():\n",
    "            if i in other.elements:\n",
    "                scalar_product += value * other.elements[i]\n",
    "        return scalar_product\n",
    "    \n",
    "    def __repr__(self):\n",
    "        return f'SparseVector(size={self.size}, elements={self.elements})'"
   ]
  },
  {
   "cell_type": "code",
   "execution_count": 107,
   "id": "ee4f244b",
   "metadata": {},
   "outputs": [
    {
     "name": "stdout",
     "output_type": "stream",
     "text": [
      "38\n"
     ]
    }
   ],
   "source": [
    "v1 = SparseVector([(0, 1), (1, 2), (3, 4)], size=10000)\n",
    "v2 = SparseVector([(0, 4), (1, 5), (3, 6)], size=10000)\n",
    "\n",
    "print(v1.scalar(v2))"
   ]
  },
  {
   "cell_type": "code",
   "execution_count": null,
   "id": "d06bf445",
   "metadata": {},
   "outputs": [],
   "source": []
  }
 ],
 "metadata": {
  "kernelspec": {
   "display_name": "Python 3 (ipykernel)",
   "language": "python",
   "name": "python3"
  },
  "language_info": {
   "codemirror_mode": {
    "name": "ipython",
    "version": 3
   },
   "file_extension": ".py",
   "mimetype": "text/x-python",
   "name": "python",
   "nbconvert_exporter": "python",
   "pygments_lexer": "ipython3",
   "version": "3.11.3"
  }
 },
 "nbformat": 4,
 "nbformat_minor": 5
}
