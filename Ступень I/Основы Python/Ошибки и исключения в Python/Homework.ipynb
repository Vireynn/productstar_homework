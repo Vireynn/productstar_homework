{
 "cells": [
  {
   "cell_type": "code",
   "execution_count": 5,
   "id": "89d4a8a2",
   "metadata": {},
   "outputs": [],
   "source": [
    "# imports\n",
    "import requests\n",
    "from requests import HTTPError"
   ]
  },
  {
   "cell_type": "code",
   "execution_count": 6,
   "id": "c0f4e6ae",
   "metadata": {},
   "outputs": [],
   "source": [
    "def send_request(status_code=200):\n",
    "    responce = requests.get(\"https://httpstat.us/%d\" % status_code)\n",
    "    responce.raise_for_status()\n",
    "    return responce.status_code"
   ]
  },
  {
   "cell_type": "code",
   "execution_count": 8,
   "id": "692c044c",
   "metadata": {},
   "outputs": [
    {
     "name": "stdout",
     "output_type": "stream",
     "text": [
      "Введите http код для проверки > abc\n",
      "Ошибка! Введите число.\n",
      "\n",
      "Введите http код для проверки > 200\n"
     ]
    }
   ],
   "source": [
    "while True:\n",
    "    try:\n",
    "        code = int(input(\"Введите http код для проверки > \"))\n",
    "    except ValueError:\n",
    "        print(\"Ошибка! Введите число.\\n\")\n",
    "    else:\n",
    "        break"
   ]
  },
  {
   "cell_type": "code",
   "execution_count": 9,
   "id": "653b675e",
   "metadata": {},
   "outputs": [
    {
     "name": "stdout",
     "output_type": "stream",
     "text": [
      "Получен код: 200\n"
     ]
    }
   ],
   "source": [
    "try:\n",
    "    response_code = send_request(code)\n",
    "except HTTPError as ex:\n",
    "    print(\"Произошла ошибка при отправке HTTP-запроса: %s\" % str(ex))\n",
    "    response_code = ex.response.status_code\n",
    "finally:\n",
    "    print(\"Получен код:\", response_code)"
   ]
  },
  {
   "cell_type": "code",
   "execution_count": null,
   "id": "6972829b",
   "metadata": {},
   "outputs": [],
   "source": []
  }
 ],
 "metadata": {
  "kernelspec": {
   "display_name": "Python 3 (ipykernel)",
   "language": "python",
   "name": "python3"
  },
  "language_info": {
   "codemirror_mode": {
    "name": "ipython",
    "version": 3
   },
   "file_extension": ".py",
   "mimetype": "text/x-python",
   "name": "python",
   "nbconvert_exporter": "python",
   "pygments_lexer": "ipython3",
   "version": "3.11.3"
  }
 },
 "nbformat": 4,
 "nbformat_minor": 5
}
